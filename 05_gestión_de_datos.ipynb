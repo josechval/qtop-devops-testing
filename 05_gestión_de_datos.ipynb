{
 "cells": [
  {
   "cell_type": "markdown",
   "metadata": {},
   "source": [
    "# Gestión de datos. "
   ]
  },
  {
   "cell_type": "markdown",
   "metadata": {},
   "source": [
    "## Datos."
   ]
  },
  {
   "cell_type": "markdown",
   "metadata": {},
   "source": [
    "* Un dato es una representación simbólica (numérica, alfabética, algorítmica, espacial, etc.) de un atributo o variable cuantitativa o cualitativa. \n",
    "* Los datos representan la información que el programador manipula en la construcción de una solución o en el desarrollo de un algoritmo. "
   ]
  },
  {
   "cell_type": "markdown",
   "metadata": {},
   "source": [
    "## Areas del conocimiento de la gestión de datos."
   ]
  },
  {
   "cell_type": "markdown",
   "metadata": {},
   "source": [
    "Según la [*DAMA*](https://www.dama.org/cpages/mission-vision-purpose-and-goals), existen 11 áreas del conocimiento involucradas en la gestión de datos."
   ]
  },
  {
   "cell_type": "markdown",
   "metadata": {},
   "source": [
    "* **Gobierno de datos.** Proporciona dirección y supervisión al Data Management estableciendo un sistema de derechos de decisión sobre los datos que da cuenta de la necesidad de la empresa.\n",
    "* **Arquitectura de datos.** Define el plan de gestión de los activos de datos alineándose con la estrategia organizativa para establecer los requisitos de datos estratégicos y los diseños para cumplir con estos requisitos.\n",
    "* **Modelado y diseño de datos.** Es el proceso de descubrir, analizar, representar y comunicar los requisitos de datos en una forma precisa llamada «modelo de datos».\n",
    "* **Almacenamiento y operaciones de datos.** Incluye el diseño, la implementación y el apoyo de los datos almacenados para maximizar su valor. Las operaciones proporcionan apoyo a lo largo del ciclo de vida de los datos, desde la planificación hasta la eliminación de los mismos.\n",
    "* **Seguridad de los datos.** La seguridad de los datos garantiza que la privacidad y la confidencialidad de los datos se mantengan, que no se violen los datos y que se acceda a ellos de manera adecuada.\n",
    "* **Integración e interoperabilidad de los datos.** Incluye procesos relacionados con el movimiento y consolidación de datos dentro y entre almacenes de datos, aplicaciones y organizaciones.\n",
    "* **Gestión de documentos y contenidos.** Incluye las actividades de planificación, implementación y control utilizadas para gestionar el ciclo de vida de los datos y la información que se encuentran en una serie de medios no estructurados, especialmente los documentos necesarios para apoyar los requisitos de cumplimiento legal y reglamentario.\n",
    "* **Gestión de referencia y datos maestros.** Incluye la conciliación y el mantenimiento continuos de datos compartidos fundamentales para permitir el uso coherente en todos los sistemas de la versión más exacta, oportuna y pertinente de la verdad sobre las entidades comerciales esenciales.\n",
    "* **Data warehousing e inteligencia de negocios.** Incluye los procesos de planificación, ejecución y control para gestionar los datos de apoyo a la toma de decisiones y permitir a los trabajadores del conocimiento obtener valor de los datos mediante el análisis y la presentación de informes.\n",
    "* **Gestión de Metadata.** Incluye las actividades de planificación, ejecución y control para permitir el acceso a metadatos integrados y de alta calidad que incluyen definiciones, modelos, flujos de datos y otra información crítica para comprender los datos y el sistema a través del cual se crean, se mantienen y se accede a ellos.\n",
    "* **Calidad de datos.** Incluye la planificación y aplicación de técnicas de gestión de la calidad para medir, evaluar y mejorar la idoneidad de los datos para su uso dentro de una organización."
   ]
  },
  {
   "cell_type": "markdown",
   "metadata": {},
   "source": [
    "## Ciclo de vida de los datos."
   ]
  },
  {
   "cell_type": "markdown",
   "metadata": {},
   "source": [
    "Para que los datos sean útiles al transformarse en información es necesario que sean adquiridos, transmitidos, procesados, analizado y almacenados, de tal forma que cumplan con un ciclo de vida."
   ]
  },
  {
   "cell_type": "markdown",
   "metadata": {},
   "source": [
    "<img src=\"img/05/ciclo_de_vida_datos.png\" width=\"50%\">"
   ]
  },
  {
   "cell_type": "markdown",
   "metadata": {},
   "source": [
    "## Almacenes de datos (*data store*)."
   ]
  },
  {
   "cell_type": "markdown",
   "metadata": {},
   "source": [
    "Los almacenes de datos son repositorios que permiten almacenar y gestionar colecciones de datos."
   ]
  },
  {
   "cell_type": "markdown",
   "metadata": {},
   "source": [
    "### Tipos de almacenes de datos.\n",
    "\n",
    "* Papel y medios físicos de escritura.\n",
    "* Archivos como hojas de cálculo, documentos *JSON*, *CSV*, etc.\n",
    "* Sistemas de archivos.\n",
    "* Sistemas de almacenamiento de objetos.\n",
    "* Bases de datos.\n",
    "    * Bases de datos relacionales.\n",
    "    * Bases de datos orientadas a objetos.\n",
    "    * Bases de datos NoSQL.\n",
    "        * [Bases de datos orientadas a documentos.](https://en.wikipedia.org/wiki/Document-oriented_database)\n",
    "        * [Bases de datos clave-valor](https://en.wikipedia.org/wiki/Key%E2%80%93value_database).\n",
    "        * [Bases de datos de columnas anchas.](https://en.wikipedia.org/wiki/Wide-column_store)\n",
    "        * [Bases de datos de grafos.](https://en.wikipedia.org/wiki/Graph_database)"
   ]
  },
  {
   "cell_type": "markdown",
   "metadata": {},
   "source": [
    "## Características de las bases de datos."
   ]
  },
  {
   "cell_type": "markdown",
   "metadata": {},
   "source": [
    "### El teorema de CAP.\n",
    "\n",
    "<img src=\"img/05/diagrama_de_cap.png\" width=\"50%\">"
   ]
  },
  {
   "attachments": {},
   "cell_type": "markdown",
   "metadata": {},
   "source": [
    "### Paradigma *ACID* .\n",
    "\n",
    "Las bases de datos relacionales están diseñadas para cumplir con las siguientes condiciones:\n",
    "\n",
    "* **Atomización.** Las transacciones sólo pueden tener 2 estados: completa o incompleta.\n",
    "* **Consistencia.** Toda la información almacenada debe de ser válida conforme a criterios.\n",
    "* **Aislamiento.** Las transacciones son seriales y unitarias.\n",
    "* **Durabilidad.** Los datos deben de ser almacenados de forma que garantice su inmutabilidad y permanencia."
   ]
  },
  {
   "attachments": {},
   "cell_type": "markdown",
   "metadata": {},
   "source": [
    "### Paradigma *BASE*.\n",
    "\n",
    "Algunas bases de datos NoSQL hacen ciertas concesiones bajo las siguientes premisas.\n",
    "* Básicamente disponible.\n",
    "* Estado suave.\n",
    "* Eventualmente disponible.\n",
    "\n",
    "Dichas concesiones permiten a este tipo de bases de datos escalar y manejar grandes volúmenes de información, pero siempre con ciertas restricciones que deben ser evaluadas."
   ]
  },
  {
   "cell_type": "markdown",
   "metadata": {},
   "source": [
    "<p style=\"text-align: center\"><a rel=\"license\" href=\"http://creativecommons.org/licenses/by/4.0/\"><img alt=\"Licencia Creative Commons\" style=\"border-width:0\" src=\"https://i.creativecommons.org/l/by/4.0/80x15.png\" /></a><br />Esta obra está bajo una <a rel=\"license\" href=\"http://creativecommons.org/licenses/by/4.0/\">Licencia Creative Commons Atribución 4.0 Internacional</a>.</p>\n",
    "<p style=\"text-align: center\">&copy; José Luis Chiquete Valdivieso. 2022.</p>"
   ]
  }
 ],
 "metadata": {
  "kernelspec": {
   "display_name": "Python 3 (ipykernel)",
   "language": "python",
   "name": "python3"
  },
  "language_info": {
   "codemirror_mode": {
    "name": "ipython",
    "version": 3
   },
   "file_extension": ".py",
   "mimetype": "text/x-python",
   "name": "python",
   "nbconvert_exporter": "python",
   "pygments_lexer": "ipython3",
   "version": "3.8.8"
  }
 },
 "nbformat": 4,
 "nbformat_minor": 2
}

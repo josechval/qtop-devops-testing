{
 "cells": [
  {
   "cell_type": "markdown",
   "metadata": {},
   "source": [
    "#  *Selenium WebDriver*."
   ]
  },
  {
   "cell_type": "markdown",
   "metadata": {},
   "source": [
    "*Selenium WebDriver* es una herramienta que permite emular las operaciones realizadas por un usuario en un navegador, de tal forma que es posible automatizar pruebas sobre una interfaz web.\n",
    "\n",
    "La documentación de *Selenium WebDriver*  está disponible en la siguiente liga:\n",
    "https://www.selenium.dev/documentation/webdriver/"
   ]
  },
  {
   "cell_type": "markdown",
   "metadata": {},
   "source": [
    "## *Selenium* en *Python*."
   ]
  },
  {
   "cell_type": "markdown",
   "metadata": {},
   "source": [
    "Aún cuando *Selenium WebDriver* está escrito originalmente el *Java*, existen implementaciones para diversos lenguajes de programación.\n",
    "\n",
    "Se ha optado por usar la implementación de *Selenium Webdriver* en *Python* para poder aprovechar las características interactivas de las *notebooks* de *Jupyter*.\n",
    "\n",
    "La documentación de *Selenium WebDriver* en *Python* puede ser consultada en a siguiente liga:\n",
    "\n",
    "https://selenium-python.readthedocs.io/"
   ]
  },
  {
   "cell_type": "markdown",
   "metadata": {},
   "source": [
    "* La siguiente celda instalará el software necesario."
   ]
  },
  {
   "cell_type": "code",
   "execution_count": null,
   "metadata": {
    "scrolled": true
   },
   "outputs": [],
   "source": [
    "!pip install selenium"
   ]
  },
  {
   "cell_type": "markdown",
   "metadata": {},
   "source": [
    "## Drivers de *Selenium*."
   ]
  },
  {
   "cell_type": "markdown",
   "metadata": {},
   "source": [
    "*Selenium WenDriver* permite aprovechar las funcionalidades de los navegadores más populares, mendiante el uso de *drivers* específicos. Los navegadores soportados son:\n",
    "\n",
    "* *Google Chrome*.\n",
    "* *Mozilla Firefox*.\n",
    "* *Microsoft Edge*.\n",
    "* *Safari*.\n",
    "\n",
    "https://www.selenium.dev/documentation/webdriver/getting_started/install_drivers/"
   ]
  },
  {
   "cell_type": "markdown",
   "metadata": {},
   "source": [
    "### Gestión de *drivers* de *Selenium*.\n",
    "\n",
    "Para facilitar la instalaciónd e los drivers de *Selenium* se utilizará el paquete *webdriver-manager*.  \n",
    "\n",
    "https://github.com/SergeyPirogov/webdriver_manager"
   ]
  },
  {
   "cell_type": "code",
   "execution_count": null,
   "metadata": {
    "scrolled": true
   },
   "outputs": [],
   "source": [
    "!pip install webdriver-manager"
   ]
  },
  {
   "cell_type": "markdown",
   "metadata": {},
   "source": [
    "## Ejecución de *Selenium*."
   ]
  },
  {
   "cell_type": "markdown",
   "metadata": {},
   "source": [
    "El objeto ```selenium.webdriver``` es el componente principal que permite realizar una conexión con el navegador seleccionado mediante un driver específico.\n",
    "\n",
    "El resultado de esta colección es un objeto de la clase ```Webdriver```."
   ]
  },
  {
   "cell_type": "markdown",
   "metadata": {},
   "source": [
    "* La siguiente celda creará un objeto instanciado de ```Webdriver``` usando el *driver* de *Firefox* al que se le asignará el nombre ```driver```.\n",
    "\n",
    "**NOTA:** Para fines de simplicidad, a partir de ahora se usará ```driver``` para hacer referencia a un objeto instanciado de ```Webdriver``` ."
   ]
  },
  {
   "cell_type": "code",
   "execution_count": 10,
   "metadata": {
    "scrolled": true
   },
   "outputs": [
    {
     "name": "stderr",
     "output_type": "stream",
     "text": [
      "\n",
      "\n",
      "====== WebDriver manager ======\n",
      "Current firefox version is 96.0\n",
      "Get LATEST geckodriver version for 96.0 firefox\n",
      "Driver [C:\\Users\\josec\\.wdm\\drivers\\geckodriver\\win64\\v0.30.0\\geckodriver.exe] found in cache\n",
      "C:\\Users\\josec\\AppData\\Local\\Temp/ipykernel_28240/602387096.py:4: DeprecationWarning: executable_path has been deprecated, please pass in a Service object\n",
      "  driver = webdriver.Firefox(executable_path=GeckoDriverManager().install())\n"
     ]
    }
   ],
   "source": [
    "from selenium import webdriver\n",
    "from webdriver_manager.firefox import GeckoDriverManager\n",
    "\n",
    "driver = webdriver.Firefox(executable_path=GeckoDriverManager().install())"
   ]
  },
  {
   "cell_type": "code",
   "execution_count": 11,
   "metadata": {
    "scrolled": true
   },
   "outputs": [
    {
     "data": {
      "text/plain": [
       "selenium.webdriver.firefox.webdriver.WebDriver"
      ]
     },
     "execution_count": 11,
     "metadata": {},
     "output_type": "execute_result"
    }
   ],
   "source": [
    "type(driver)"
   ]
  },
  {
   "cell_type": "markdown",
   "metadata": {},
   "source": [
    "### Acceso a una *URL*.\n",
    "\n",
    "El método ```driver.get()``` permite al objeto insanciado acceder a una *URL* que se ingresa como aregumento."
   ]
  },
  {
   "cell_type": "markdown",
   "metadata": {},
   "source": [
    "* La siguiente celda realizará una conexión con el contenido localizado en [```http://localhost```](http://localhost)."
   ]
  },
  {
   "cell_type": "code",
   "execution_count": 12,
   "metadata": {},
   "outputs": [],
   "source": [
    "driver.get(\"http://localhost\")"
   ]
  },
  {
   "cell_type": "markdown",
   "metadata": {},
   "source": [
    "### Selección de elementos.\n",
    "\n",
    "El método ```driver.find_element()``` permite realizar búsquedas dentro del sitio.\n",
    "\n",
    "```\n",
    "driver.find_element(by=<metodo>, value=\"valor\")\n",
    "```\n",
    "Donde:\n",
    "\n",
    "* ```método``` puede ser alguna de las siguientes cadenas de caracteres: \n",
    "   * ```'xpath'```\n",
    "   * ```'css selector'```\n",
    "   * ```'class name'```\n",
    "   * ```'id'```\n",
    "   * ```'tag name'```\n",
    "   * ```'name'```\n",
    "   * ```'link text'```\n",
    "   * ```'partial link text'```\n",
    "* ```valor``` puede ser un criterio de búsqueda específico.\n",
    "\n",
    "En caso de que se encuentren uno o más elementos, éstos serán representados mediante un objeto de la clase ```WebElement```.\n",
    "\n",
    "**NOTA:** Para fines de simplicidad, a partir de ahora se usará ```element``` para hacer referencia a un objeto instanciado de ```WebElement``` ."
   ]
  },
  {
   "cell_type": "code",
   "execution_count": 13,
   "metadata": {
    "scrolled": true
   },
   "outputs": [
    {
     "data": {
      "text/plain": [
       "<selenium.webdriver.remote.webelement.WebElement (session=\"3528873d-1267-4ae3-952c-20cd47f4add6\", element=\"837d3953-8569-4ea9-8cc1-f22a471d170d\")>"
      ]
     },
     "execution_count": 13,
     "metadata": {},
     "output_type": "execute_result"
    }
   ],
   "source": [
    "driver.find_element(by=\"tag name\", value=\"body\")"
   ]
  },
  {
   "cell_type": "code",
   "execution_count": 14,
   "metadata": {},
   "outputs": [],
   "source": [
    "sitio = driver.find_element(by=\"tag name\", value=\"body\")"
   ]
  },
  {
   "cell_type": "markdown",
   "metadata": {},
   "source": [
    "### El método ```element.screenshot()```."
   ]
  },
  {
   "cell_type": "code",
   "execution_count": 15,
   "metadata": {
    "scrolled": true
   },
   "outputs": [
    {
     "data": {
      "text/plain": [
       "True"
      ]
     },
     "execution_count": 15,
     "metadata": {},
     "output_type": "execute_result"
    }
   ],
   "source": [
    "sitio.screenshot(\"foto.png\")"
   ]
  },
  {
   "cell_type": "markdown",
   "metadata": {},
   "source": [
    "### Uso de los atributos y métodos de ```element```."
   ]
  },
  {
   "cell_type": "code",
   "execution_count": 16,
   "metadata": {},
   "outputs": [
    {
     "data": {
      "text/plain": [
       "'RESTAURANTE-BAR\\n\"LA FONDA DE LA MARQUESA\"\\nEL LUGAR DE LOS AMIGOS Y CÓMPLICES DESDE 1987\\nPrincipal Menú Equipo Reservaciones Paquetes Mesas\\nSomos la mejor opción de la nueva cocina mexicana al sur de la Ciudad de México.\\nNuestros platillos están basados en las típicas recetas de la abuela, pero con un toque de modernidad.\\n\"¡El pan de pulque es tan delicioso como los recuerdos de mi juventud!\"\\n-Rigoberto Astudillo. Cliente desde 2004.\\n\\nEste mes le ofrecemos nuestro Menú Tradicional de $250.00 a sólo $180.00 pesos.\\nNo incluye bebidas\\nPregunte por nuestros paquetes para grupos y eventos especiales.\\nSomos orgullosos miembros de la AMECOT.\\nSábados y Domingos, Desayuno Buffet. De 9:00 a 13:00hrs.\\nTOCA AQUÍ PARA VER NUESTRO MENÚ.\\nTODOS LO QUE COLABORAMOS EN LA FONDA DE LA MARQUESA ESTAMOS PARA SERVIRTE.\\nCalle Mar del Oro No. 18, Col. San Jacinto el Bajo, Coyoacán, C.P. 100003, México, D.F.\\nCorreo electrónico: reservaciones@fonda-marquesa.com.mx\\nReservaciones al (55) 1161-11345'"
      ]
     },
     "execution_count": 16,
     "metadata": {},
     "output_type": "execute_result"
    }
   ],
   "source": [
    "sitio.text"
   ]
  },
  {
   "cell_type": "code",
   "execution_count": 17,
   "metadata": {},
   "outputs": [
    {
     "data": {
      "text/plain": [
       "[<selenium.webdriver.remote.webelement.WebElement (session=\"3528873d-1267-4ae3-952c-20cd47f4add6\", element=\"995b625f-cbfc-441f-b98e-b502bf046265\")>,\n",
       " <selenium.webdriver.remote.webelement.WebElement (session=\"3528873d-1267-4ae3-952c-20cd47f4add6\", element=\"ecd92ae4-6a91-4120-aa17-c9a71f83a901\")>,\n",
       " <selenium.webdriver.remote.webelement.WebElement (session=\"3528873d-1267-4ae3-952c-20cd47f4add6\", element=\"010b2a29-e928-41c8-9fb0-6347614cfb97\")>,\n",
       " <selenium.webdriver.remote.webelement.WebElement (session=\"3528873d-1267-4ae3-952c-20cd47f4add6\", element=\"35a19191-73b9-44d3-af49-2f2a6b535d4b\")>,\n",
       " <selenium.webdriver.remote.webelement.WebElement (session=\"3528873d-1267-4ae3-952c-20cd47f4add6\", element=\"0495d011-5c54-4fdd-a71f-ec4fe5eb2eab\")>,\n",
       " <selenium.webdriver.remote.webelement.WebElement (session=\"3528873d-1267-4ae3-952c-20cd47f4add6\", element=\"7ef0dd67-763e-4fe0-aac4-59380d94c68c\")>,\n",
       " <selenium.webdriver.remote.webelement.WebElement (session=\"3528873d-1267-4ae3-952c-20cd47f4add6\", element=\"da304bda-049a-48e4-82bf-93266633a471\")>,\n",
       " <selenium.webdriver.remote.webelement.WebElement (session=\"3528873d-1267-4ae3-952c-20cd47f4add6\", element=\"1e149ae2-4711-45ac-a203-83ec13347c98\")>,\n",
       " <selenium.webdriver.remote.webelement.WebElement (session=\"3528873d-1267-4ae3-952c-20cd47f4add6\", element=\"741efd56-512f-4db5-bb07-cb37c0d2f17c\")>,\n",
       " <selenium.webdriver.remote.webelement.WebElement (session=\"3528873d-1267-4ae3-952c-20cd47f4add6\", element=\"63443f02-0725-4aa5-bc1a-135f28603aa7\")>,\n",
       " <selenium.webdriver.remote.webelement.WebElement (session=\"3528873d-1267-4ae3-952c-20cd47f4add6\", element=\"236ad4c4-6678-467a-871c-4b795b4fb321\")>,\n",
       " <selenium.webdriver.remote.webelement.WebElement (session=\"3528873d-1267-4ae3-952c-20cd47f4add6\", element=\"642f56bf-f410-434d-8c87-a1ed4c755a58\")>,\n",
       " <selenium.webdriver.remote.webelement.WebElement (session=\"3528873d-1267-4ae3-952c-20cd47f4add6\", element=\"d6788f9f-1c9d-40de-b0bc-335107d065a1\")>]"
      ]
     },
     "execution_count": 17,
     "metadata": {},
     "output_type": "execute_result"
    }
   ],
   "source": [
    "sitio.find_elements(by=\"tag name\", value=\"p\")"
   ]
  },
  {
   "cell_type": "code",
   "execution_count": 18,
   "metadata": {},
   "outputs": [
    {
     "name": "stdout",
     "output_type": "stream",
     "text": [
      "\n",
      "----\n",
      "\n",
      "\n",
      "----\n",
      "\n",
      "Somos la mejor opción de la nueva cocina mexicana al sur de la Ciudad de México.\n",
      "Nuestros platillos están basados en las típicas recetas de la abuela, pero con un toque de modernidad.\n",
      "----\n",
      "\n",
      "\n",
      "----\n",
      "\n",
      "Este mes le ofrecemos nuestro Menú Tradicional de $250.00 a sólo $180.00 pesos.\n",
      "No incluye bebidas\n",
      "----\n",
      "\n",
      "Pregunte por nuestros paquetes para grupos y eventos especiales.\n",
      "----\n",
      "\n",
      "Somos orgullosos miembros de la AMECOT.\n",
      "----\n",
      "\n",
      "\n",
      "----\n",
      "\n",
      "Sábados y Domingos, Desayuno Buffet. De 9:00 a 13:00hrs.\n",
      "----\n",
      "\n",
      "\n",
      "----\n",
      "\n",
      "TOCA AQUÍ PARA VER NUESTRO MENÚ.\n",
      "----\n",
      "\n",
      "\n",
      "----\n",
      "\n",
      "TODOS LO QUE COLABORAMOS EN LA FONDA DE LA MARQUESA ESTAMOS PARA SERVIRTE.\n",
      "----\n",
      "\n"
     ]
    }
   ],
   "source": [
    "for item in sitio.find_elements(by=\"tag name\", value=\"p\"):\n",
    "    print(item.text + '\\n----\\n')"
   ]
  },
  {
   "cell_type": "code",
   "execution_count": 19,
   "metadata": {},
   "outputs": [],
   "source": [
    "anchors = sitio.find_elements(by=\"css selector\", value=\"a\")"
   ]
  },
  {
   "cell_type": "code",
   "execution_count": 20,
   "metadata": {},
   "outputs": [
    {
     "data": {
      "text/plain": [
       "'http://localhost/#'"
      ]
     },
     "execution_count": 20,
     "metadata": {},
     "output_type": "execute_result"
    }
   ],
   "source": [
    "anchors[1].get_attribute(\"href\")"
   ]
  },
  {
   "cell_type": "code",
   "execution_count": 21,
   "metadata": {},
   "outputs": [
    {
     "data": {
      "text/plain": [
       "[<selenium.webdriver.remote.webelement.WebElement (session=\"3528873d-1267-4ae3-952c-20cd47f4add6\", element=\"7566d4dd-e3e2-4805-90fd-133f52fa19e9\")>,\n",
       " <selenium.webdriver.remote.webelement.WebElement (session=\"3528873d-1267-4ae3-952c-20cd47f4add6\", element=\"6b6b8a0b-483a-4b15-92e8-e26787369d0a\")>]"
      ]
     },
     "execution_count": 21,
     "metadata": {},
     "output_type": "execute_result"
    }
   ],
   "source": [
    "sitio.find_elements(by=\"xpath\", value=\"//*[contains(text(),'Menú')]\")"
   ]
  },
  {
   "cell_type": "code",
   "execution_count": 22,
   "metadata": {},
   "outputs": [],
   "source": [
    "menu = sitio.find_elements(by=\"xpath\", \n",
    "                           value=\"//*[contains(text(),'Menú')]\")"
   ]
  },
  {
   "cell_type": "markdown",
   "metadata": {},
   "source": [
    "### El método ```element.click()```.\n",
    "\n",
    "El método ```element.click()``` permite emular el evento correspondiente a hacer *click* con un dispositivo apuntador sobre el elemento de referencia, desencadenando una acción correspondiente en caso de que esté habilitada."
   ]
  },
  {
   "cell_type": "code",
   "execution_count": 23,
   "metadata": {},
   "outputs": [],
   "source": [
    "nuevo_sitio = menu[0].click()"
   ]
  },
  {
   "cell_type": "code",
   "execution_count": 24,
   "metadata": {},
   "outputs": [
    {
     "data": {
      "text/plain": [
       "True"
      ]
     },
     "execution_count": 24,
     "metadata": {},
     "output_type": "execute_result"
    }
   ],
   "source": [
    "driver.save_full_page_screenshot(\"menu.png\")"
   ]
  },
  {
   "cell_type": "markdown",
   "metadata": {},
   "source": [
    "### Gestión de ventanas."
   ]
  },
  {
   "cell_type": "code",
   "execution_count": 25,
   "metadata": {},
   "outputs": [],
   "source": [
    "reservaciones = driver.find_elements(by=\"xpath\", \n",
    "                      value=\"//*[contains(text(),'Reservaciones')]\")"
   ]
  },
  {
   "cell_type": "code",
   "execution_count": 26,
   "metadata": {},
   "outputs": [
    {
     "data": {
      "text/plain": [
       "'http://localhost/reservaciones.html'"
      ]
     },
     "execution_count": 26,
     "metadata": {},
     "output_type": "execute_result"
    }
   ],
   "source": [
    "reservaciones[0].get_attribute(\"href\")"
   ]
  },
  {
   "cell_type": "code",
   "execution_count": 27,
   "metadata": {},
   "outputs": [],
   "source": [
    "reservaciones[0].click()"
   ]
  },
  {
   "cell_type": "code",
   "execution_count": 29,
   "metadata": {},
   "outputs": [
    {
     "data": {
      "text/plain": [
       "['74f53d26-6a2d-4ca8-b95d-0379d20f867c']"
      ]
     },
     "execution_count": 29,
     "metadata": {},
     "output_type": "execute_result"
    }
   ],
   "source": [
    "driver.window_handles"
   ]
  },
  {
   "cell_type": "markdown",
   "metadata": {},
   "source": [
    "### El atributo ``` driver.switch.to```."
   ]
  },
  {
   "cell_type": "code",
   "execution_count": null,
   "metadata": {},
   "outputs": [],
   "source": [
    "alerta = driver.switch_to.alert"
   ]
  },
  {
   "cell_type": "code",
   "execution_count": null,
   "metadata": {},
   "outputs": [],
   "source": [
    "alerta.text"
   ]
  },
  {
   "cell_type": "code",
   "execution_count": null,
   "metadata": {},
   "outputs": [],
   "source": [
    "alerta.send_keys(\"Jose Luis\")"
   ]
  },
  {
   "cell_type": "code",
   "execution_count": null,
   "metadata": {},
   "outputs": [],
   "source": [
    "alerta.accept()"
   ]
  },
  {
   "cell_type": "code",
   "execution_count": null,
   "metadata": {},
   "outputs": [],
   "source": [
    "saludo = driver.switch_to.alert"
   ]
  },
  {
   "cell_type": "code",
   "execution_count": null,
   "metadata": {},
   "outputs": [],
   "source": [
    "saludo.text"
   ]
  },
  {
   "cell_type": "code",
   "execution_count": null,
   "metadata": {},
   "outputs": [],
   "source": [
    "saludo.accept()"
   ]
  },
  {
   "cell_type": "code",
   "execution_count": null,
   "metadata": {},
   "outputs": [],
   "source": [
    "driver.save_full_page_screenshot('reservaciones.png')"
   ]
  },
  {
   "cell_type": "code",
   "execution_count": null,
   "metadata": {},
   "outputs": [],
   "source": [
    "driver.close()"
   ]
  },
  {
   "cell_type": "markdown",
   "metadata": {},
   "source": [
    "<p style=\"text-align: center\"><a rel=\"license\" href=\"http://creativecommons.org/licenses/by/4.0/\"><img alt=\"Licencia Creative Commons\" style=\"border-width:0\" src=\"https://i.creativecommons.org/l/by/4.0/80x15.png\" /></a><br />Esta obra está bajo una <a rel=\"license\" href=\"http://creativecommons.org/licenses/by/4.0/\">Licencia Creative Commons Atribución 4.0 Internacional</a>.</p>\n",
    "<p style=\"text-align: center\">&copy; José Luis Chiquete Valdivieso. 2022.</p>"
   ]
  }
 ],
 "metadata": {
  "kernelspec": {
   "display_name": "Python 3 (ipykernel)",
   "language": "python",
   "name": "python3"
  },
  "language_info": {
   "codemirror_mode": {
    "name": "ipython",
    "version": 3
   },
   "file_extension": ".py",
   "mimetype": "text/x-python",
   "name": "python",
   "nbconvert_exporter": "python",
   "pygments_lexer": "ipython3",
   "version": "3.8.8"
  }
 },
 "nbformat": 4,
 "nbformat_minor": 2
}

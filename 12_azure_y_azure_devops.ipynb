{
 "cells": [
  {
   "cell_type": "markdown",
   "metadata": {},
   "source": [
    "# *Azure* y *Azure DevOps*."
   ]
  },
  {
   "cell_type": "markdown",
   "metadata": {},
   "source": [
    "## Cómputo en la nube.\n",
    "\n",
    "Seǵun el *NIST*, cómputo en la nube se define como un modelo para habilitar mediante un red ubicua, conveniente y bajo demanda que permite el acceso a un conjunto de recursos de cómputo compartidos y configurables (redes privadas, servidores, almacenamiento, aplicaciones y servicios) que pueden ser aprovisionados rápidamente y desplegados con un mínimo esfuerzo de gestión o de interacción por parte del proveedor del servicio.\n",
    "\n",
    "https://www.nist.gov/news-events/news/2011/10/final-version-nist-cloud-computing-definition-published"
   ]
  },
  {
   "cell_type": "markdown",
   "metadata": {},
   "source": [
    "### Características del cómputo en la nube.\n",
    "\n",
    "* Autoservicio bajo demanda.\n",
    "* Acceso amplio a redes de comunicaciones.\n",
    "* Acopio de recursos de cómputo.\n",
    "* Rápida expansión o elasticidad de los recursos.\n",
    "* Servicio medido."
   ]
  },
  {
   "cell_type": "markdown",
   "metadata": {},
   "source": [
    "### Modelos de servicio.\n",
    "\n",
    "* Software como servicio (SaaS).\n",
    "* Plataforma como servicio (PaaS).\n",
    "* Infraestructura como servicio (IaaS)."
   ]
  },
  {
   "cell_type": "markdown",
   "metadata": {},
   "source": [
    "### Modelos de despliegue.\n",
    "\n",
    "* Nube privada.\n",
    "* Nube comunitaria.\n",
    "* Nube pública.\n",
    "* Nube híbrida."
   ]
  },
  {
   "cell_type": "markdown",
   "metadata": {},
   "source": [
    "## Tipos de servicios en la nube."
   ]
  },
  {
   "cell_type": "markdown",
   "metadata": {},
   "source": [
    "* Recursos de cómputo.\n",
    "* Almacenamiento.\n",
    "* Red.\n",
    "* Servicios especializados."
   ]
  },
  {
   "cell_type": "markdown",
   "metadata": {},
   "source": [
    "## *Azure*.\n",
    "\n",
    "[*Azure*](https://azure.microsoft.com/es-mx/) es un conjunto de servicios globales de *PaaS* e *IaaS* sustentado por la red de comunicaciones y los centros de datos de *Microsoft*, los cuales pueden funcionar bajo un esquema de nube pública e híbrida.\n",
    "\n",
    "Por otra parte, *Microsoft* también ofrece un conjunto de servicios *SaaS*, porm medio de [*Microsoft 365*](https://www.microsoft.com/es-mx/microsoft-365)."
   ]
  },
  {
   "cell_type": "markdown",
   "metadata": {},
   "source": [
    "### Servicios que ofrece *Azure*."
   ]
  },
  {
   "cell_type": "markdown",
   "metadata": {},
   "source": [
    "* [*Active Directory*](https://portal.azure.com/#blade/Microsoft_AAD_IAM/ActiveDirectoryMenuBlade)\n",
    "* [Recursos de cómputo](https://portal.azure.com/#allservices/category/Compute)\n",
    "* [Redes](https://portal.azure.com/#allservices/category/Networking)\n",
    "* [Almacenamiento](https://portal.azure.com/#allservices/category/Storage)\n",
    "* [Web](https://portal.azure.com/#allservices/category/Web)\n",
    "* [Contenedores](https://portal.azure.com/#allservices/category/Containers)\n",
    "* [Bases de datos](https://portal.azure.com/#allservices/category/Databases)\n",
    "* [Analítica](https://portal.azure.com/#allservices/category/Analytics)\n",
    "* [Integración](https://portal.azure.com/#allservices/category/Integration)\n",
    "* [Identidad](https://portal.azure.com/#allservices/category/Identity)\n",
    "* [Seguridad](https://portal.azure.com/#allservices/category/Security)\n",
    "* [Monitoreo](https://portal.azure.com/#allservices/category/Monitor)\n",
    "* [DevOps](https://portal.azure.com/#allservices/category/DevOps)"
   ]
  },
  {
   "cell_type": "markdown",
   "metadata": {},
   "source": [
    "### Servicios gratuitos.\n",
    "\n",
    "https://azure.microsoft.com/es-mx/pricing/free-services/"
   ]
  },
  {
   "cell_type": "markdown",
   "metadata": {},
   "source": [
    "## Grupos de recursos."
   ]
  },
  {
   "cell_type": "markdown",
   "metadata": {},
   "source": [
    "Como su nombre lo indica, *Azure* permite definir grupos de recursos, los cuales permiten delimitar, separare y distribuir los diferentes servicios que ofrece *Azure* entre diversos grupos de usuarios, regiones geográficas y proyectos."
   ]
  },
  {
   "cell_type": "markdown",
   "metadata": {},
   "source": [
    "## *Azure DevOps*."
   ]
  },
  {
   "cell_type": "markdown",
   "metadata": {},
   "source": [
    "[*Azure DevOps*](https://azure.microsoft.com/es-mx/services/devops/) es un conjunto de servicios cuyo objetivo es el de facilitar a los equipos de desarrollo de software herramientas automatizadas que cubren el ciclo de vida de desarrollo de software."
   ]
  },
  {
   "cell_type": "markdown",
   "metadata": {},
   "source": [
    "### Componentes.\n",
    "\n",
    "* [*Azure Boards*](https://azure.microsoft.com/es-mx/services/devops/boards/), los cuales porporcionan diversos tipos de tableros que facilitan el seguimiento de las actividades de los equipos de trabajo. \n",
    "* [*Azure Repos*](https://azure.microsoft.com/es-mx/services/devops/repos/), los cuales son servicios de repositorios de código.\n",
    "* [*Azure Pipelines*](https://azure.microsoft.com/es-mx/services/devops/repos/https://azure.microsoft.com/es-mx/services/devops/pipelines/), los cuales permiten diseñar y ejecutar diversas tareas automatizadas que permiten crear, probar, integrar y desplegar software desde el código, hasta la aplicación en producción.\n",
    "* [*Azure Test Plans*](https://azure.microsoft.com/es-mx/services/devops/test-plans/) permite definir estrategias y entornos de pruebas manuales y automatizadas.\n",
    "* [*Azure Artifacts*](https://azure.microsoft.com/es-mx/services/devops/artifacts/), los cuales son servicios de repositorios de artefactos. "
   ]
  },
  {
   "cell_type": "markdown",
   "metadata": {},
   "source": [
    "<p style=\"text-align: center\"><a rel=\"license\" href=\"http://creativecommons.org/licenses/by/4.0/\"><img alt=\"Licencia Creative Commons\" style=\"border-width:0\" src=\"https://i.creativecommons.org/l/by/4.0/80x15.png\" /></a><br />Esta obra está bajo una <a rel=\"license\" href=\"http://creativecommons.org/licenses/by/4.0/\">Licencia Creative Commons Atribución 4.0 Internacional</a>.</p>\n",
    "<p style=\"text-align: center\">&copy; José Luis Chiquete Valdivieso. 2022.</p>"
   ]
  }
 ],
 "metadata": {
  "kernelspec": {
   "display_name": "Python 3 (ipykernel)",
   "language": "python",
   "name": "python3"
  },
  "language_info": {
   "codemirror_mode": {
    "name": "ipython",
    "version": 3
   },
   "file_extension": ".py",
   "mimetype": "text/x-python",
   "name": "python",
   "nbconvert_exporter": "python",
   "pygments_lexer": "ipython3",
   "version": "3.10.4"
  }
 },
 "nbformat": 4,
 "nbformat_minor": 2
}
